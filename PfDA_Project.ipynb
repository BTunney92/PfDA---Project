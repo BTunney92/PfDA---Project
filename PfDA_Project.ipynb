{
 "cells": [
  {
   "cell_type": "markdown",
   "id": "b648c969-b866-4c13-89ea-43a8c6ad4276",
   "metadata": {},
   "source": [
    "## Programming for Data Analysis - Project\n",
    "\n",
    "### Author - Brendan Tunney\n",
    "\n",
    "### Student ID - G00270683"
   ]
  },
  {
   "cell_type": "markdown",
   "id": "69e78cd3-5c73-47c5-9710-5241863bf57e",
   "metadata": {},
   "source": [
    "Insurance premiums. Variables - Age, Gender, License type & Cover type"
   ]
  },
  {
   "cell_type": "markdown",
   "id": "d83006d0-4d1a-493e-a2a9-6d8e5b6bde3b",
   "metadata": {},
   "source": [
    "Cover - 81.86  Comp - 18.14 Third Party 2017 figures [2]\n",
    "Gender - Female 50.55. Male 49.45 [3]\n",
    "Licence - Full - 96.5. Provisional 3.5 [4]\n",
    "AGE - 30 or under - 819,602  16.4%\n",
    "      31 or over - 2,813,079 56.3% [5]\n",
    "Premiums - \n"
   ]
  },
  {
   "cell_type": "code",
   "execution_count": 15,
   "id": "7f1efa61-725f-463e-8b77-5f9a6a2e1c8e",
   "metadata": {},
   "outputs": [],
   "source": [
    "# Importing libraries to create dataframe\n",
    "\n",
    "import numpy as np  \n",
    "import pandas as pd\n",
    "import random"
   ]
  },
  {
   "cell_type": "code",
   "execution_count": 18,
   "id": "2e5960e0-f8ad-405a-93c1-b090c141f9c8",
   "metadata": {},
   "outputs": [],
   "source": [
    "age=np.random.randint(low=17, high=100, size=1000) "
   ]
  },
  {
   "cell_type": "code",
   "execution_count": 22,
   "id": "7412e71b-7163-4cd9-a43b-5ce24b9e0e5f",
   "metadata": {},
   "outputs": [],
   "source": [
    "# Creating the variables\n",
    "\n",
    "gender = ('Female', 'Male')\n",
    "licence = ('Full', 'Provisional')\n",
    "cover = ('Comprehensive', 'Third Party')\n",
    "\n",
    "\n",
    "df = pd.DataFrame(columns={'Premium', 'Age', 'Gender', 'Licence', 'Cover'})\n",
    "\n",
    "df['Gender'] = np.random.choice(gender, 1000, p=[0.5055, 0.4945]) # using numpy random choice to assign 'M/F' based on current population distribution.\n",
    "df['Cover'] = np.random.choice(cover, 1000, p= [0.8186, 0.1814]) # \n",
    "df['Licence'] = np.random.choice(licence, 1000, p=[0.965, 0.035])\n",
    "df['Age'] = np.random.choice(age, 1000)\n"
   ]
  },
  {
   "cell_type": "code",
   "execution_count": 21,
   "id": "8d738e85-6c8d-4a47-ad38-a84e4f8542c4",
   "metadata": {},
   "outputs": [
    {
     "data": {
      "text/html": [
       "<div>\n",
       "<style scoped>\n",
       "    .dataframe tbody tr th:only-of-type {\n",
       "        vertical-align: middle;\n",
       "    }\n",
       "\n",
       "    .dataframe tbody tr th {\n",
       "        vertical-align: top;\n",
       "    }\n",
       "\n",
       "    .dataframe thead th {\n",
       "        text-align: right;\n",
       "    }\n",
       "</style>\n",
       "<table border=\"1\" class=\"dataframe\">\n",
       "  <thead>\n",
       "    <tr style=\"text-align: right;\">\n",
       "      <th></th>\n",
       "      <th>Gender</th>\n",
       "      <th>Premium</th>\n",
       "      <th>Cover</th>\n",
       "      <th>Licence</th>\n",
       "      <th>Age</th>\n",
       "    </tr>\n",
       "  </thead>\n",
       "  <tbody>\n",
       "    <tr>\n",
       "      <th>0</th>\n",
       "      <td>Female</td>\n",
       "      <td>NaN</td>\n",
       "      <td>Comprehensive</td>\n",
       "      <td>Full</td>\n",
       "      <td>32</td>\n",
       "    </tr>\n",
       "    <tr>\n",
       "      <th>1</th>\n",
       "      <td>Male</td>\n",
       "      <td>NaN</td>\n",
       "      <td>Comprehensive</td>\n",
       "      <td>Full</td>\n",
       "      <td>32</td>\n",
       "    </tr>\n",
       "    <tr>\n",
       "      <th>2</th>\n",
       "      <td>Female</td>\n",
       "      <td>NaN</td>\n",
       "      <td>Comprehensive</td>\n",
       "      <td>Full</td>\n",
       "      <td>32</td>\n",
       "    </tr>\n",
       "    <tr>\n",
       "      <th>3</th>\n",
       "      <td>Male</td>\n",
       "      <td>NaN</td>\n",
       "      <td>Third Party</td>\n",
       "      <td>Full</td>\n",
       "      <td>32</td>\n",
       "    </tr>\n",
       "    <tr>\n",
       "      <th>4</th>\n",
       "      <td>Male</td>\n",
       "      <td>NaN</td>\n",
       "      <td>Third Party</td>\n",
       "      <td>Full</td>\n",
       "      <td>32</td>\n",
       "    </tr>\n",
       "    <tr>\n",
       "      <th>...</th>\n",
       "      <td>...</td>\n",
       "      <td>...</td>\n",
       "      <td>...</td>\n",
       "      <td>...</td>\n",
       "      <td>...</td>\n",
       "    </tr>\n",
       "    <tr>\n",
       "      <th>995</th>\n",
       "      <td>Male</td>\n",
       "      <td>NaN</td>\n",
       "      <td>Comprehensive</td>\n",
       "      <td>Full</td>\n",
       "      <td>32</td>\n",
       "    </tr>\n",
       "    <tr>\n",
       "      <th>996</th>\n",
       "      <td>Male</td>\n",
       "      <td>NaN</td>\n",
       "      <td>Comprehensive</td>\n",
       "      <td>Full</td>\n",
       "      <td>32</td>\n",
       "    </tr>\n",
       "    <tr>\n",
       "      <th>997</th>\n",
       "      <td>Female</td>\n",
       "      <td>NaN</td>\n",
       "      <td>Comprehensive</td>\n",
       "      <td>Full</td>\n",
       "      <td>32</td>\n",
       "    </tr>\n",
       "    <tr>\n",
       "      <th>998</th>\n",
       "      <td>Female</td>\n",
       "      <td>NaN</td>\n",
       "      <td>Comprehensive</td>\n",
       "      <td>Full</td>\n",
       "      <td>32</td>\n",
       "    </tr>\n",
       "    <tr>\n",
       "      <th>999</th>\n",
       "      <td>Female</td>\n",
       "      <td>NaN</td>\n",
       "      <td>Comprehensive</td>\n",
       "      <td>Full</td>\n",
       "      <td>32</td>\n",
       "    </tr>\n",
       "  </tbody>\n",
       "</table>\n",
       "<p>1000 rows × 5 columns</p>\n",
       "</div>"
      ],
      "text/plain": [
       "     Gender Premium          Cover Licence  Age\n",
       "0    Female     NaN  Comprehensive    Full   32\n",
       "1      Male     NaN  Comprehensive    Full   32\n",
       "2    Female     NaN  Comprehensive    Full   32\n",
       "3      Male     NaN    Third Party    Full   32\n",
       "4      Male     NaN    Third Party    Full   32\n",
       "..      ...     ...            ...     ...  ...\n",
       "995    Male     NaN  Comprehensive    Full   32\n",
       "996    Male     NaN  Comprehensive    Full   32\n",
       "997  Female     NaN  Comprehensive    Full   32\n",
       "998  Female     NaN  Comprehensive    Full   32\n",
       "999  Female     NaN  Comprehensive    Full   32\n",
       "\n",
       "[1000 rows x 5 columns]"
      ]
     },
     "execution_count": 21,
     "metadata": {},
     "output_type": "execute_result"
    }
   ],
   "source": [
    "df"
   ]
  },
  {
   "cell_type": "code",
   "execution_count": null,
   "id": "63cf4131-2491-4877-afc5-be8a90885aec",
   "metadata": {},
   "outputs": [],
   "source": []
  }
 ],
 "metadata": {
  "kernelspec": {
   "display_name": "Python 3",
   "language": "python",
   "name": "python3"
  },
  "language_info": {
   "codemirror_mode": {
    "name": "ipython",
    "version": 3
   },
   "file_extension": ".py",
   "mimetype": "text/x-python",
   "name": "python",
   "nbconvert_exporter": "python",
   "pygments_lexer": "ipython3",
   "version": "3.8.8"
  }
 },
 "nbformat": 4,
 "nbformat_minor": 5
}

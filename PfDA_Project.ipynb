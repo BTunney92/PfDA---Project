{
 "cells": [
  {
   "cell_type": "markdown",
   "id": "b648c969-b866-4c13-89ea-43a8c6ad4276",
   "metadata": {},
   "source": [
    "## Programming for Data Analysis - Project\n",
    "\n",
    "### Author - Brendan Tunney\n",
    "\n",
    "### Student ID - G00270683"
   ]
  },
  {
   "cell_type": "markdown",
   "id": "69e78cd3-5c73-47c5-9710-5241863bf57e",
   "metadata": {},
   "source": [
    "Insurance premiums. Variables - Age, Gender, License type & Cover type"
   ]
  },
  {
   "cell_type": "markdown",
   "id": "d83006d0-4d1a-493e-a2a9-6d8e5b6bde3b",
   "metadata": {},
   "source": [
    "Cover - 81.86  Comp - 18.14 Third Party 2017 figures [2]\n",
    "Gender - Female 50.55. Male 49.45 [3]\n",
    "Licence - Full - 96.5. Provisional 3.5 [4]\n",
    "AGE - 30 or under - 819,602  16.4% (22.6% of my sample)\n",
    "      31 or over - 2,813,079 56.3% [5] (77.4% of my sample)\n",
    "Premiums - \n"
   ]
  },
  {
   "cell_type": "code",
   "execution_count": 2,
   "id": "7f1efa61-725f-463e-8b77-5f9a6a2e1c8e",
   "metadata": {},
   "outputs": [],
   "source": [
    "# Importing libraries to create dataframe\n",
    "\n",
    "import numpy as np  \n",
    "import pandas as pd\n",
    "import random"
   ]
  },
  {
   "cell_type": "code",
   "execution_count": 5,
   "id": "2e5960e0-f8ad-405a-93c1-b090c141f9c8",
   "metadata": {},
   "outputs": [],
   "source": []
  },
  {
   "cell_type": "code",
   "execution_count": 127,
   "id": "7412e71b-7163-4cd9-a43b-5ce24b9e0e5f",
   "metadata": {},
   "outputs": [],
   "source": [
    "# Creating the variables\n",
    "\n",
    "gender = ('Female', 'Male')\n",
    "licence = ('Full', 'Provisional')\n",
    "cover = ('Comprehensive', 'Third Party')\n",
    "age = ('17-20', '21-24', '25-30', '31-50','51-70', '71+')  \n",
    "\n",
    "df = pd.DataFrame(columns={'Premium', 'Age', 'Gender', 'Licence', 'Cover'})\n",
    "\n",
    "df['Gender'] = np.random.choice(gender, 1000, p=[0.5055, 0.4945]) # using numpy random choice to assign 'M/F' based on current population distribution.\n",
    "df['Cover'] = np.random.choice(cover, 1000, p= [0.8186, 0.1814]) # \n",
    "df['Licence'] = np.random.choice(licence, 1000, p=[0.965, 0.035])\n",
    "df['Age'] = np.random.choice(age, 1000, p=[0.0619, 0.0624, 0.0986, 0.3904, 0.2727, 0.1140]) # Setting age groups based on 2020 age dist. estimate\n"
   ]
  },
  {
   "cell_type": "code",
   "execution_count": 128,
   "id": "3b0c0548-aa72-4cb0-8d2e-991ef4eb581c",
   "metadata": {},
   "outputs": [],
   "source": [
    "# Assigning average premiums per Central Bank figures to the different variables\n",
    "\n",
    "df['Premium'] = np.where( (df['Gender'] == 'Female') & (df['Cover'] == 'Comprehensive') & (df['Licence'] == 'Full') & (df['Age'] == '17-20'), np.random.normal(1253, 0), df['Premium'])\n",
    "df['Premium'] = np.where( (df['Gender'] == 'Female') & (df['Cover'] == 'Comprehensive') & (df['Licence'] == 'Full') & (df['Age'] == '21-24'), np.random.normal(785, 0), df['Premium'])\n",
    "df['Premium'] = np.where( (df['Gender'] == 'Female') & (df['Cover'] == 'Comprehensive') & (df['Licence'] == 'Full') & (df['Age'] == '25-30'), np.random.normal(561, 0), df['Premium'])\n",
    "df['Premium'] = np.where( (df['Gender'] == 'Female') & (df['Cover'] == 'Comprehensive') & (df['Licence'] == 'Full') & (df['Age'] == '31-50'), np.random.normal(456, 0), df['Premium'])\n",
    "df['Premium'] = np.where( (df['Gender'] == 'Female') & (df['Cover'] == 'Comprehensive') & (df['Licence'] == 'Full') & (df['Age'] == '51-70'), np.random.normal(433, 0), df['Premium'])\n",
    "df['Premium'] = np.where( (df['Gender'] == 'Female') & (df['Cover'] == 'Comprehensive') & (df['Licence'] == 'Full') & (df['Age'] == '71+'), np.random.normal(491, 0), df['Premium'])"
   ]
  },
  {
   "cell_type": "code",
   "execution_count": 133,
   "id": "4f392c58-c1b3-457a-975d-1d13a9e20df8",
   "metadata": {},
   "outputs": [],
   "source": [
    "df['Premium'] = np.where( (df['Gender'] == 'Female') & (df['Cover'] == 'Third Party') & (df['Licence'] == 'Full') & (df['Age'] == '17-20'), np.random.normal(1465, 0), df['Premium'])\n",
    "df['Premium'] = np.where( (df['Gender'] == 'Female') & (df['Cover'] == 'Third Party') & (df['Licence'] == 'Full') & (df['Age'] == '21-24'), np.random.normal(804, 0), df['Premium'])\n",
    "df['Premium'] = np.where( (df['Gender'] == 'Female') & (df['Cover'] == 'Third Party') & (df['Licence'] == 'Full') & (df['Age'] == '25-30'), np.random.normal(589, 0), df['Premium'])\n",
    "df['Premium'] = np.where( (df['Gender'] == 'Female') & (df['Cover'] == 'Third Party') & (df['Licence'] == 'Full') & (df['Age'] == '31-50'), np.random.normal(497, 0), df['Premium'])\n",
    "df['Premium'] = np.where( (df['Gender'] == 'Female') & (df['Cover'] == 'Third Party') & (df['Licence'] == 'Full') & (df['Age'] == '51-70'), np.random.normal(465, 0), df['Premium'])\n",
    "df['Premium'] = np.where( (df['Gender'] == 'Female') & (df['Cover'] == 'Third Party') & (df['Licence'] == 'Full') & (df['Age'] == '71+'), np.random.normal(458, 0), df['Premium'])\n"
   ]
  },
  {
   "cell_type": "code",
   "execution_count": 137,
   "id": "ee0fe94e-4c48-4958-ad17-f65ed1ede7f8",
   "metadata": {},
   "outputs": [],
   "source": [
    "df['Premium'] = np.where( (df['Gender'] == 'Female') & (df['Cover'] == 'Comprehensive') & (df['Licence'] == 'Provisional') & (df['Age'] == '17-20'), np.random.normal(1777, 0), df['Premium'])\n",
    "df['Premium'] = np.where( (df['Gender'] == 'Female') & (df['Cover'] == 'Comprehensive') & (df['Licence'] == 'Provisional') & (df['Age'] == '21-24'), np.random.normal(1218, 0), df['Premium'])\n",
    "df['Premium'] = np.where( (df['Gender'] == 'Female') & (df['Cover'] == 'Comprehensive') & (df['Licence'] == 'Provisional') & (df['Age'] == '25-30'), np.random.normal(913, 0), df['Premium'])\n",
    "df['Premium'] = np.where( (df['Gender'] == 'Female') & (df['Cover'] == 'Comprehensive') & (df['Licence'] == 'Provisional') & (df['Age'] == '31-50'), np.random.normal(724, 0), df['Premium'])\n",
    "df['Premium'] = np.where( (df['Gender'] == 'Female') & (df['Cover'] == 'Comprehensive') & (df['Licence'] == 'Provisional') & (df['Age'] == '51-70'), np.random.normal(633, 0), df['Premium'])\n",
    "df['Premium'] = np.where( (df['Gender'] == 'Female') & (df['Cover'] == 'Comprehensive') & (df['Licence'] == 'Provisional') & (df['Age'] == '71+'), np.random.normal(670, 0), df['Premium'])\n"
   ]
  },
  {
   "cell_type": "code",
   "execution_count": 134,
   "id": "9a26405b-d7cf-4622-bc13-9c2b3b97ad2a",
   "metadata": {},
   "outputs": [],
   "source": [
    "df['Premium'] = np.where( (df['Gender'] == 'Female') & (df['Cover'] == 'Third Party') & (df['Licence'] == 'Provisional') & (df['Age'] == '17-20'), np.random.normal(2135, 0), df['Premium'])\n",
    "df['Premium'] = np.where( (df['Gender'] == 'Female') & (df['Cover'] == 'Third Party') & (df['Licence'] == 'Provisional') & (df['Age'] == '21-24'), np.random.normal(1287, 0), df['Premium'])\n",
    "df['Premium'] = np.where( (df['Gender'] == 'Female') & (df['Cover'] == 'Third Party') & (df['Licence'] == 'Provisional') & (df['Age'] == '25-30'), np.random.normal(964, 0), df['Premium'])\n",
    "df['Premium'] = np.where( (df['Gender'] == 'Female') & (df['Cover'] == 'Third Party') & (df['Licence'] == 'Provisional') & (df['Age'] == '31-50'), np.random.normal(757, 0), df['Premium'])\n",
    "df['Premium'] = np.where( (df['Gender'] == 'Female') & (df['Cover'] == 'Third Party') & (df['Licence'] == 'Provisional') & (df['Age'] == '51-70'), np.random.normal(583, 0), df['Premium'])\n",
    "df['Premium'] = np.where( (df['Gender'] == 'Female') & (df['Cover'] == 'Third Party') & (df['Licence'] == 'Provisional') & (df['Age'] == '71+'), np.random.normal(606, 0), df['Premium'])\n"
   ]
  },
  {
   "cell_type": "code",
   "execution_count": 136,
   "id": "63cf4131-2491-4877-afc5-be8a90885aec",
   "metadata": {},
   "outputs": [],
   "source": [
    "INS_Data = 'df' + '.csv'\n",
    "df.to_csv(INS_Data)"
   ]
  },
  {
   "cell_type": "code",
   "execution_count": 42,
   "id": "7aa2dba3-206e-44bf-beb3-4c84329360eb",
   "metadata": {},
   "outputs": [
    {
     "data": {
      "text/plain": [
       "288.3023104697953"
      ]
     },
     "execution_count": 42,
     "metadata": {},
     "output_type": "execute_result"
    }
   ],
   "source": [
    "# Getting SD for premiums\n",
    "\n",
    "p1 = np.array([1253, 785, 561])\n",
    "np.std(p1, axis=0)"
   ]
  },
  {
   "cell_type": "code",
   "execution_count": null,
   "id": "65ee1d52-d80b-4370-a7bc-5e4523335f98",
   "metadata": {},
   "outputs": [],
   "source": []
  }
 ],
 "metadata": {
  "kernelspec": {
   "display_name": "Python 3",
   "language": "python",
   "name": "python3"
  },
  "language_info": {
   "codemirror_mode": {
    "name": "ipython",
    "version": 3
   },
   "file_extension": ".py",
   "mimetype": "text/x-python",
   "name": "python",
   "nbconvert_exporter": "python",
   "pygments_lexer": "ipython3",
   "version": "3.8.8"
  }
 },
 "nbformat": 4,
 "nbformat_minor": 5
}

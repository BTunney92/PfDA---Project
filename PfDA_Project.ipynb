{
 "cells": [
  {
   "cell_type": "markdown",
   "id": "b648c969-b866-4c13-89ea-43a8c6ad4276",
   "metadata": {},
   "source": [
    "## Programming for Data Analysis - Project\n",
    "\n",
    "### Author - Brendan Tunney\n",
    "\n",
    "### Student ID - G00270683"
   ]
  },
  {
   "cell_type": "markdown",
   "id": "69e78cd3-5c73-47c5-9710-5241863bf57e",
   "metadata": {},
   "source": [
    "Insurance premiums. Variables - Age, Gender, License type & Cover type"
   ]
  },
  {
   "cell_type": "markdown",
   "id": "d83006d0-4d1a-493e-a2a9-6d8e5b6bde3b",
   "metadata": {},
   "source": [
    "Cover - 81.86  Comp - 18.14 Third Party 2017 figures [2]\n",
    "Gender - Female 50.55. Male 49.45 [3]\n",
    "Licence - Full - 96.5. Provisional 3.5 [4]\n",
    "AGE - 30 or under - 819,602  16.4% (22.6% of my sample)\n",
    "      31 or over - 2,813,079 56.3% [5] (77.4% of my sample)\n",
    "Premiums - \n"
   ]
  },
  {
   "cell_type": "code",
   "execution_count": 1,
   "id": "7f1efa61-725f-463e-8b77-5f9a6a2e1c8e",
   "metadata": {},
   "outputs": [],
   "source": [
    "# Importing libraries to create dataframe\n",
    "\n",
    "import numpy as np  \n",
    "import pandas as pd\n",
    "import random\n",
    "import seaborn as sns"
   ]
  },
  {
   "cell_type": "code",
   "execution_count": null,
   "id": "2e5960e0-f8ad-405a-93c1-b090c141f9c8",
   "metadata": {},
   "outputs": [],
   "source": []
  },
  {
   "cell_type": "code",
   "execution_count": 2,
   "id": "7412e71b-7163-4cd9-a43b-5ce24b9e0e5f",
   "metadata": {},
   "outputs": [],
   "source": [
    "# Creating the variables\n",
    "\n",
    "gender = ('Female', 'Male')\n",
    "licence = ('Full', 'Provisional')\n",
    "cover = ('Comprehensive', 'Third Party')\n",
    "age = ('17-20', '21-24', '25-30', '31-50','51-70', '71+')  \n",
    "\n",
    "df = pd.DataFrame(columns={'Premium', 'Age', 'Gender', 'Licence', 'Cover'})\n",
    "\n",
    "df['Gender'] = np.random.choice(gender, 1000, p=[0.5055, 0.4945]) # using numpy random choice to assign 'M/F' based on current population distribution.\n",
    "df['Cover'] = np.random.choice(cover, 1000, p= [0.8186, 0.1814]) # \n",
    "df['Licence'] = np.random.choice(licence, 1000, p=[0.965, 0.035])\n",
    "df['Age'] = np.random.choice(age, 1000, p=[0.0619, 0.0624, 0.0986, 0.3904, 0.2727, 0.1140]) # Setting age groups based on 2020 age dist. estimate\n"
   ]
  },
  {
   "cell_type": "code",
   "execution_count": 3,
   "id": "3b0c0548-aa72-4cb0-8d2e-991ef4eb581c",
   "metadata": {},
   "outputs": [],
   "source": [
    "# Assigning average premiums per Central Bank figures to the different variables\n",
    "\n",
    "df['Premium'] = np.where( (df['Gender'] == 'Female') & (df['Cover'] == 'Comprehensive') & (df['Licence'] == 'Full') & (df['Age'] == '17-20'), np.random.normal(1253, 0), df['Premium'])\n",
    "df['Premium'] = np.where( (df['Gender'] == 'Female') & (df['Cover'] == 'Comprehensive') & (df['Licence'] == 'Full') & (df['Age'] == '21-24'), np.random.normal(785, 0), df['Premium'])\n",
    "df['Premium'] = np.where( (df['Gender'] == 'Female') & (df['Cover'] == 'Comprehensive') & (df['Licence'] == 'Full') & (df['Age'] == '25-30'), np.random.normal(561, 0), df['Premium'])\n",
    "df['Premium'] = np.where( (df['Gender'] == 'Female') & (df['Cover'] == 'Comprehensive') & (df['Licence'] == 'Full') & (df['Age'] == '31-50'), np.random.normal(456, 0), df['Premium'])\n",
    "df['Premium'] = np.where( (df['Gender'] == 'Female') & (df['Cover'] == 'Comprehensive') & (df['Licence'] == 'Full') & (df['Age'] == '51-70'), np.random.normal(433, 0), df['Premium'])\n",
    "df['Premium'] = np.where( (df['Gender'] == 'Female') & (df['Cover'] == 'Comprehensive') & (df['Licence'] == 'Full') & (df['Age'] == '71+'), np.random.normal(491, 0), df['Premium'])"
   ]
  },
  {
   "cell_type": "code",
   "execution_count": 4,
   "id": "4f392c58-c1b3-457a-975d-1d13a9e20df8",
   "metadata": {},
   "outputs": [],
   "source": [
    "df['Premium'] = np.where( (df['Gender'] == 'Female') & (df['Cover'] == 'Third Party') & (df['Licence'] == 'Full') & (df['Age'] == '17-20'), np.random.normal(1465, 0), df['Premium'])\n",
    "df['Premium'] = np.where( (df['Gender'] == 'Female') & (df['Cover'] == 'Third Party') & (df['Licence'] == 'Full') & (df['Age'] == '21-24'), np.random.normal(804, 0), df['Premium'])\n",
    "df['Premium'] = np.where( (df['Gender'] == 'Female') & (df['Cover'] == 'Third Party') & (df['Licence'] == 'Full') & (df['Age'] == '25-30'), np.random.normal(589, 0), df['Premium'])\n",
    "df['Premium'] = np.where( (df['Gender'] == 'Female') & (df['Cover'] == 'Third Party') & (df['Licence'] == 'Full') & (df['Age'] == '31-50'), np.random.normal(497, 0), df['Premium'])\n",
    "df['Premium'] = np.where( (df['Gender'] == 'Female') & (df['Cover'] == 'Third Party') & (df['Licence'] == 'Full') & (df['Age'] == '51-70'), np.random.normal(465, 0), df['Premium'])\n",
    "df['Premium'] = np.where( (df['Gender'] == 'Female') & (df['Cover'] == 'Third Party') & (df['Licence'] == 'Full') & (df['Age'] == '71+'), np.random.normal(458, 0), df['Premium'])\n"
   ]
  },
  {
   "cell_type": "code",
   "execution_count": 5,
   "id": "ee0fe94e-4c48-4958-ad17-f65ed1ede7f8",
   "metadata": {},
   "outputs": [],
   "source": [
    "df['Premium'] = np.where( (df['Gender'] == 'Female') & (df['Cover'] == 'Comprehensive') & (df['Licence'] == 'Provisional') & (df['Age'] == '17-20'), np.random.normal(1777, 0), df['Premium'])\n",
    "df['Premium'] = np.where( (df['Gender'] == 'Female') & (df['Cover'] == 'Comprehensive') & (df['Licence'] == 'Provisional') & (df['Age'] == '21-24'), np.random.normal(1218, 0), df['Premium'])\n",
    "df['Premium'] = np.where( (df['Gender'] == 'Female') & (df['Cover'] == 'Comprehensive') & (df['Licence'] == 'Provisional') & (df['Age'] == '25-30'), np.random.normal(913, 0), df['Premium'])\n",
    "df['Premium'] = np.where( (df['Gender'] == 'Female') & (df['Cover'] == 'Comprehensive') & (df['Licence'] == 'Provisional') & (df['Age'] == '31-50'), np.random.normal(724, 0), df['Premium'])\n",
    "df['Premium'] = np.where( (df['Gender'] == 'Female') & (df['Cover'] == 'Comprehensive') & (df['Licence'] == 'Provisional') & (df['Age'] == '51-70'), np.random.normal(633, 0), df['Premium'])\n",
    "df['Premium'] = np.where( (df['Gender'] == 'Female') & (df['Cover'] == 'Comprehensive') & (df['Licence'] == 'Provisional') & (df['Age'] == '71+'), np.random.normal(670, 0), df['Premium'])\n"
   ]
  },
  {
   "cell_type": "code",
   "execution_count": 6,
   "id": "9a26405b-d7cf-4622-bc13-9c2b3b97ad2a",
   "metadata": {},
   "outputs": [],
   "source": [
    "df['Premium'] = np.where( (df['Gender'] == 'Female') & (df['Cover'] == 'Third Party') & (df['Licence'] == 'Provisional') & (df['Age'] == '17-20'), np.random.normal(2135, 0), df['Premium'])\n",
    "df['Premium'] = np.where( (df['Gender'] == 'Female') & (df['Cover'] == 'Third Party') & (df['Licence'] == 'Provisional') & (df['Age'] == '21-24'), np.random.normal(1287, 0), df['Premium'])\n",
    "df['Premium'] = np.where( (df['Gender'] == 'Female') & (df['Cover'] == 'Third Party') & (df['Licence'] == 'Provisional') & (df['Age'] == '25-30'), np.random.normal(964, 0), df['Premium'])\n",
    "df['Premium'] = np.where( (df['Gender'] == 'Female') & (df['Cover'] == 'Third Party') & (df['Licence'] == 'Provisional') & (df['Age'] == '31-50'), np.random.normal(757, 0), df['Premium'])\n",
    "df['Premium'] = np.where( (df['Gender'] == 'Female') & (df['Cover'] == 'Third Party') & (df['Licence'] == 'Provisional') & (df['Age'] == '51-70'), np.random.normal(583, 0), df['Premium'])\n",
    "df['Premium'] = np.where( (df['Gender'] == 'Female') & (df['Cover'] == 'Third Party') & (df['Licence'] == 'Provisional') & (df['Age'] == '71+'), np.random.normal(606, 0), df['Premium'])\n"
   ]
  },
  {
   "cell_type": "code",
   "execution_count": 7,
   "id": "65ee1d52-d80b-4370-a7bc-5e4523335f98",
   "metadata": {},
   "outputs": [],
   "source": [
    "df['Premium'] = np.where( (df['Gender'] == 'Male') & (df['Cover'] == 'Comprehensive') & (df['Licence'] == 'Full') & (df['Age'] == '17-20'), np.random.normal(1388, 0), df['Premium'])\n",
    "df['Premium'] = np.where( (df['Gender'] == 'Male') & (df['Cover'] == 'Comprehensive') & (df['Licence'] == 'Full') & (df['Age'] == '21-24'), np.random.normal(915, 0), df['Premium'])\n",
    "df['Premium'] = np.where( (df['Gender'] == 'Male') & (df['Cover'] == 'Comprehensive') & (df['Licence'] == 'Full') & (df['Age'] == '25-30'), np.random.normal(657, 0), df['Premium'])\n",
    "df['Premium'] = np.where( (df['Gender'] == 'Male') & (df['Cover'] == 'Comprehensive') & (df['Licence'] == 'Full') & (df['Age'] == '31-50'), np.random.normal(495, 0), df['Premium'])\n",
    "df['Premium'] = np.where( (df['Gender'] == 'Male') & (df['Cover'] == 'Comprehensive') & (df['Licence'] == 'Full') & (df['Age'] == '51-70'), np.random.normal(454, 0), df['Premium'])\n",
    "df['Premium'] = np.where( (df['Gender'] == 'Male') & (df['Cover'] == 'Comprehensive') & (df['Licence'] == 'Full') & (df['Age'] == '71+'), np.random.normal(520, 0), df['Premium'])\n"
   ]
  },
  {
   "cell_type": "code",
   "execution_count": 8,
   "id": "9ba18d32-6ad3-49de-9e3c-3527cfc61ac6",
   "metadata": {},
   "outputs": [],
   "source": [
    "df['Premium'] = np.where( (df['Gender'] == 'Male') & (df['Cover'] == 'Comprehensive') & (df['Licence'] == 'Provisional') & (df['Age'] == '17-20'), np.random.normal(1954, 0), df['Premium'])\n",
    "df['Premium'] = np.where( (df['Gender'] == 'Male') & (df['Cover'] == 'Comprehensive') & (df['Licence'] == 'Provisional') & (df['Age'] == '21-24'), np.random.normal(1356, 0), df['Premium'])\n",
    "df['Premium'] = np.where( (df['Gender'] == 'Male') & (df['Cover'] == 'Comprehensive') & (df['Licence'] == 'Provisional') & (df['Age'] == '25-30'), np.random.normal(1050, 0), df['Premium'])\n",
    "df['Premium'] = np.where( (df['Gender'] == 'Male') & (df['Cover'] == 'Comprehensive') & (df['Licence'] == 'Provisional') & (df['Age'] == '31-50'), np.random.normal(776, 0), df['Premium'])\n",
    "df['Premium'] = np.where( (df['Gender'] == 'Male') & (df['Cover'] == 'Comprehensive') & (df['Licence'] == 'Provisional') & (df['Age'] == '51-70'), np.random.normal(679, 0), df['Premium'])\n",
    "df['Premium'] = np.where( (df['Gender'] == 'Male') & (df['Cover'] == 'Comprehensive') & (df['Licence'] == 'Provisional') & (df['Age'] == '71+'), np.random.normal(677, 0), df['Premium'])\n"
   ]
  },
  {
   "cell_type": "code",
   "execution_count": 9,
   "id": "5c5262e7-fb3d-47c3-8971-ca9e3b9fc1a5",
   "metadata": {},
   "outputs": [],
   "source": [
    "df['Premium'] = np.where( (df['Gender'] == 'Male') & (df['Cover'] == 'Third Party') & (df['Licence'] == 'Full') & (df['Age'] == '17-20'), np.random.normal(1843, 0), df['Premium'])\n",
    "df['Premium'] = np.where( (df['Gender'] == 'Male') & (df['Cover'] == 'Third Party') & (df['Licence'] == 'Full') & (df['Age'] == '21-24'), np.random.normal(959, 0), df['Premium'])\n",
    "df['Premium'] = np.where( (df['Gender'] == 'Male') & (df['Cover'] == 'Third Party') & (df['Licence'] == 'Full') & (df['Age'] == '25-30'), np.random.normal(683, 0), df['Premium'])\n",
    "df['Premium'] = np.where( (df['Gender'] == 'Male') & (df['Cover'] == 'Third Party') & (df['Licence'] == 'Full') & (df['Age'] == '31-50'), np.random.normal(527, 0), df['Premium'])\n",
    "df['Premium'] = np.where( (df['Gender'] == 'Male') & (df['Cover'] == 'Third Party') & (df['Licence'] == 'Full') & (df['Age'] == '51-70'), np.random.normal(472, 0), df['Premium'])\n",
    "df['Premium'] = np.where( (df['Gender'] == 'Male') & (df['Cover'] == 'Third Party') & (df['Licence'] == 'Full') & (df['Age'] == '71+'), np.random.normal(473, 0), df['Premium'])\n"
   ]
  },
  {
   "cell_type": "code",
   "execution_count": 10,
   "id": "ddf8a36b-02f1-4cb8-aae9-6d6ff407e303",
   "metadata": {},
   "outputs": [],
   "source": [
    "df['Premium'] = np.where( (df['Gender'] == 'Male') & (df['Cover'] == 'Third Party') & (df['Licence'] == 'Provisional') & (df['Age'] == '17-20'), np.random.normal(2247, 0), df['Premium'])\n",
    "df['Premium'] = np.where( (df['Gender'] == 'Male') & (df['Cover'] == 'Third Party') & (df['Licence'] == 'Provisional') & (df['Age'] == '21-24'), np.random.normal(1562, 0), df['Premium'])\n",
    "df['Premium'] = np.where( (df['Gender'] == 'Male') & (df['Cover'] == 'Third Party') & (df['Licence'] == 'Provisional') & (df['Age'] == '25-30'), np.random.normal(1148, 0), df['Premium'])\n",
    "df['Premium'] = np.where( (df['Gender'] == 'Male') & (df['Cover'] == 'Third Party') & (df['Licence'] == 'Provisional') & (df['Age'] == '31-50'), np.random.normal(849, 0), df['Premium'])\n",
    "df['Premium'] = np.where( (df['Gender'] == 'Male') & (df['Cover'] == 'Third Party') & (df['Licence'] == 'Provisional') & (df['Age'] == '51-70'), np.random.normal(639, 0), df['Premium'])\n",
    "df['Premium'] = np.where( (df['Gender'] == 'Male') & (df['Cover'] == 'Third Party') & (df['Licence'] == 'Provisional') & (df['Age'] == '71+'), np.random.normal(634, 0), df['Premium'])\n"
   ]
  },
  {
   "cell_type": "code",
   "execution_count": 16,
   "id": "63cf4131-2491-4877-afc5-be8a90885aec",
   "metadata": {},
   "outputs": [],
   "source": [
    "df.set_index('Age')\n",
    "INS_Data = 'INS_Data' + '.csv'\n",
    "df.to_csv(INS_Data) # Save DF as csv"
   ]
  },
  {
   "cell_type": "code",
   "execution_count": 25,
   "id": "7aa2dba3-206e-44bf-beb3-4c84329360eb",
   "metadata": {},
   "outputs": [],
   "source": [
    "INS_data = pd.read_csv('INS_Data.csv') # Opening csv file \n",
    "\n",
    "include =['object', 'float', 'int'] # Includes all data types, not just nemeric values\n",
    "  \n",
    "Summary = INS_data.describe(include = include) # Getting summary stats for all variables."
   ]
  },
  {
   "cell_type": "code",
   "execution_count": 26,
   "id": "454832d3-888c-4cef-adad-e86bf39b2c21",
   "metadata": {},
   "outputs": [
    {
     "name": "stdout",
     "output_type": "stream",
     "text": [
      "                Cover      Premium    Age  Gender Licence\n",
      "count            1000  1000.000000   1000    1000    1000\n",
      "unique              2          NaN      6       2       2\n",
      "top     Comprehensive          NaN  31-50  Female    Full\n",
      "freq              810          NaN    444     505     975\n",
      "mean              NaN   568.924000    NaN     NaN     NaN\n",
      "std               NaN   223.235818    NaN     NaN     NaN\n",
      "min               NaN   433.000000    NaN     NaN     NaN\n",
      "25%               NaN   456.000000    NaN     NaN     NaN\n",
      "50%               NaN   495.000000    NaN     NaN     NaN\n",
      "75%               NaN   527.000000    NaN     NaN     NaN\n",
      "max               NaN  1954.000000    NaN     NaN     NaN\n"
     ]
    }
   ],
   "source": [
    "print(Summary)"
   ]
  },
  {
   "cell_type": "code",
   "execution_count": 27,
   "id": "26437d40-323c-4cb8-aa44-cc959c686ef4",
   "metadata": {},
   "outputs": [],
   "source": [
    "Summary_gender = INS_data.groupby('Gender').describe() # Summary stats for premium, grouped by gender."
   ]
  },
  {
   "cell_type": "code",
   "execution_count": 28,
   "id": "44f770aa-4020-48fc-a395-0ea4c9b5ad36",
   "metadata": {},
   "outputs": [
    {
     "name": "stdout",
     "output_type": "stream",
     "text": [
      "       Unnamed: 0                                                          \\\n",
      "            count        mean        std  min    25%    50%    75%    max   \n",
      "Gender                                                                      \n",
      "Female      505.0  508.778218  287.40018  4.0  267.0  527.0  752.0  999.0   \n",
      "Male        495.0  490.034343  290.24490  0.0  232.5  472.0  745.0  998.0   \n",
      "\n",
      "       Premium                                                              \n",
      "         count        mean         std    min    25%    50%    75%     max  \n",
      "Gender                                                                      \n",
      "Female   505.0  547.267327  205.941349  433.0  456.0  456.0  497.0  1465.0  \n",
      "Male     495.0  591.018182  237.779637  454.0  495.0  495.0  527.0  1954.0  \n"
     ]
    }
   ],
   "source": [
    "print(Summary_gender)"
   ]
  }
 ],
 "metadata": {
  "kernelspec": {
   "display_name": "Python 3",
   "language": "python",
   "name": "python3"
  },
  "language_info": {
   "codemirror_mode": {
    "name": "ipython",
    "version": 3
   },
   "file_extension": ".py",
   "mimetype": "text/x-python",
   "name": "python",
   "nbconvert_exporter": "python",
   "pygments_lexer": "ipython3",
   "version": "3.8.8"
  }
 },
 "nbformat": 4,
 "nbformat_minor": 5
}

{
 "cells": [
  {
   "cell_type": "markdown",
   "id": "b648c969-b866-4c13-89ea-43a8c6ad4276",
   "metadata": {},
   "source": [
    "## Programming for Data Analysis - Project\n",
    "\n",
    "### Author - Brendan Tunney\n",
    "\n",
    "### Student ID - G00270683"
   ]
  },
  {
   "cell_type": "markdown",
   "id": "69e78cd3-5c73-47c5-9710-5241863bf57e",
   "metadata": {},
   "source": [
    "Insurance premiums. Variables - Age, Gender, License type & Cover type"
   ]
  },
  {
   "cell_type": "code",
   "execution_count": null,
   "id": "1b47551d-00a9-4ba9-b207-0194aa957fba",
   "metadata": {},
   "outputs": [],
   "source": []
  },
  {
   "cell_type": "code",
   "execution_count": null,
   "id": "4b7c31ad-8478-4b0e-9e58-113e7ec678be",
   "metadata": {},
   "outputs": [],
   "source": []
  },
  {
   "cell_type": "code",
   "execution_count": null,
   "id": "8c1b530d-04f3-4e55-aedc-ad62f36b2832",
   "metadata": {},
   "outputs": [],
   "source": []
  },
  {
   "cell_type": "code",
   "execution_count": null,
   "id": "81eac01c-8337-4de1-b4e7-395f97be715e",
   "metadata": {},
   "outputs": [],
   "source": []
  },
  {
   "cell_type": "code",
   "execution_count": null,
   "id": "775604a9-0eea-41bf-a70a-ee5e46e86bd0",
   "metadata": {},
   "outputs": [],
   "source": []
  },
  {
   "cell_type": "markdown",
   "id": "d83006d0-4d1a-493e-a2a9-6d8e5b6bde3b",
   "metadata": {},
   "source": [
    "Cover - 81.86  Comp - 18.14 Third Party 2017 figures [2]\n",
    "Gender - Female 50.55. Male 49.45 [3]\n",
    "Licence - Full - 96.5. Provisional 3.5 [4]\n",
    "AGE - 30 or under - 819,602  16.4% (22.6% of my sample)\n",
    "      31 or over - 2,813,079 56.3% [5] (77.4% of my sample)\n",
    "Premiums - \n"
   ]
  },
  {
   "cell_type": "code",
   "execution_count": 22,
   "id": "7f1efa61-725f-463e-8b77-5f9a6a2e1c8e",
   "metadata": {},
   "outputs": [],
   "source": [
    "# Importing libraries to create dataframe\n",
    "\n",
    "import numpy as np  \n",
    "import pandas as pd\n",
    "import random\n",
    "import seaborn as sns\n",
    "import matplotlib.pyplot as plt"
   ]
  },
  {
   "cell_type": "code",
   "execution_count": null,
   "id": "2e5960e0-f8ad-405a-93c1-b090c141f9c8",
   "metadata": {},
   "outputs": [],
   "source": []
  },
  {
   "cell_type": "code",
   "execution_count": 56,
   "id": "7412e71b-7163-4cd9-a43b-5ce24b9e0e5f",
   "metadata": {},
   "outputs": [],
   "source": [
    "# Creating the variables\n",
    "\n",
    "gender = ('Female', 'Male')\n",
    "licence = ('Full', 'Provisional')\n",
    "cover = ('Comprehensive', 'Third Party')\n",
    "age = ('17-20', '21-24', '25-30', '31-50','51-70', '71+')  \n",
    "\n",
    "df = pd.DataFrame(columns={'Premium', 'Age', 'Gender', 'Licence', 'Cover'})\n",
    "\n",
    "df['Gender'] = np.random.choice(gender, 1000, p=[0.5055, 0.4945]) # using numpy random choice to assign 'M/F' based on current population distribution.\n",
    "df['Cover'] = np.random.choice(cover, 1000, p= [0.8186, 0.1814]) # \n",
    "df['Licence'] = np.random.choice(licence, 1000, p=[0.965, 0.035])\n",
    "df['Age'] = np.random.choice(age, 1000, p=[0.0619, 0.0624, 0.0986, 0.3904, 0.2727, 0.1140]) # Setting age groups based on 2020 age dist. estimate\n"
   ]
  },
  {
   "cell_type": "code",
   "execution_count": 3,
   "id": "3b0c0548-aa72-4cb0-8d2e-991ef4eb581c",
   "metadata": {},
   "outputs": [],
   "source": [
    "# Assigning average premiums per Central Bank figures to the different variables\n",
    "\n",
    "df['Premium'] = np.where( (df['Gender'] == 'Female') & (df['Cover'] == 'Comprehensive') & (df['Licence'] == 'Full') & (df['Age'] == '17-20'), np.random.normal(1253, 0), df['Premium'])\n",
    "df['Premium'] = np.where( (df['Gender'] == 'Female') & (df['Cover'] == 'Comprehensive') & (df['Licence'] == 'Full') & (df['Age'] == '21-24'), np.random.normal(785, 0), df['Premium'])\n",
    "df['Premium'] = np.where( (df['Gender'] == 'Female') & (df['Cover'] == 'Comprehensive') & (df['Licence'] == 'Full') & (df['Age'] == '25-30'), np.random.normal(561, 0), df['Premium'])\n",
    "df['Premium'] = np.where( (df['Gender'] == 'Female') & (df['Cover'] == 'Comprehensive') & (df['Licence'] == 'Full') & (df['Age'] == '31-50'), np.random.normal(456, 0), df['Premium'])\n",
    "df['Premium'] = np.where( (df['Gender'] == 'Female') & (df['Cover'] == 'Comprehensive') & (df['Licence'] == 'Full') & (df['Age'] == '51-70'), np.random.normal(433, 0), df['Premium'])\n",
    "df['Premium'] = np.where( (df['Gender'] == 'Female') & (df['Cover'] == 'Comprehensive') & (df['Licence'] == 'Full') & (df['Age'] == '71+'), np.random.normal(491, 0), df['Premium'])"
   ]
  },
  {
   "cell_type": "code",
   "execution_count": 4,
   "id": "4f392c58-c1b3-457a-975d-1d13a9e20df8",
   "metadata": {},
   "outputs": [],
   "source": [
    "df['Premium'] = np.where( (df['Gender'] == 'Female') & (df['Cover'] == 'Third Party') & (df['Licence'] == 'Full') & (df['Age'] == '17-20'), np.random.normal(1465, 0), df['Premium'])\n",
    "df['Premium'] = np.where( (df['Gender'] == 'Female') & (df['Cover'] == 'Third Party') & (df['Licence'] == 'Full') & (df['Age'] == '21-24'), np.random.normal(804, 0), df['Premium'])\n",
    "df['Premium'] = np.where( (df['Gender'] == 'Female') & (df['Cover'] == 'Third Party') & (df['Licence'] == 'Full') & (df['Age'] == '25-30'), np.random.normal(589, 0), df['Premium'])\n",
    "df['Premium'] = np.where( (df['Gender'] == 'Female') & (df['Cover'] == 'Third Party') & (df['Licence'] == 'Full') & (df['Age'] == '31-50'), np.random.normal(497, 0), df['Premium'])\n",
    "df['Premium'] = np.where( (df['Gender'] == 'Female') & (df['Cover'] == 'Third Party') & (df['Licence'] == 'Full') & (df['Age'] == '51-70'), np.random.normal(465, 0), df['Premium'])\n",
    "df['Premium'] = np.where( (df['Gender'] == 'Female') & (df['Cover'] == 'Third Party') & (df['Licence'] == 'Full') & (df['Age'] == '71+'), np.random.normal(458, 0), df['Premium'])\n"
   ]
  },
  {
   "cell_type": "code",
   "execution_count": 5,
   "id": "ee0fe94e-4c48-4958-ad17-f65ed1ede7f8",
   "metadata": {},
   "outputs": [],
   "source": [
    "df['Premium'] = np.where( (df['Gender'] == 'Female') & (df['Cover'] == 'Comprehensive') & (df['Licence'] == 'Provisional') & (df['Age'] == '17-20'), np.random.normal(1777, 0), df['Premium'])\n",
    "df['Premium'] = np.where( (df['Gender'] == 'Female') & (df['Cover'] == 'Comprehensive') & (df['Licence'] == 'Provisional') & (df['Age'] == '21-24'), np.random.normal(1218, 0), df['Premium'])\n",
    "df['Premium'] = np.where( (df['Gender'] == 'Female') & (df['Cover'] == 'Comprehensive') & (df['Licence'] == 'Provisional') & (df['Age'] == '25-30'), np.random.normal(913, 0), df['Premium'])\n",
    "df['Premium'] = np.where( (df['Gender'] == 'Female') & (df['Cover'] == 'Comprehensive') & (df['Licence'] == 'Provisional') & (df['Age'] == '31-50'), np.random.normal(724, 0), df['Premium'])\n",
    "df['Premium'] = np.where( (df['Gender'] == 'Female') & (df['Cover'] == 'Comprehensive') & (df['Licence'] == 'Provisional') & (df['Age'] == '51-70'), np.random.normal(633, 0), df['Premium'])\n",
    "df['Premium'] = np.where( (df['Gender'] == 'Female') & (df['Cover'] == 'Comprehensive') & (df['Licence'] == 'Provisional') & (df['Age'] == '71+'), np.random.normal(670, 0), df['Premium'])\n"
   ]
  },
  {
   "cell_type": "code",
   "execution_count": 6,
   "id": "9a26405b-d7cf-4622-bc13-9c2b3b97ad2a",
   "metadata": {},
   "outputs": [],
   "source": [
    "df['Premium'] = np.where( (df['Gender'] == 'Female') & (df['Cover'] == 'Third Party') & (df['Licence'] == 'Provisional') & (df['Age'] == '17-20'), np.random.normal(2135, 0), df['Premium'])\n",
    "df['Premium'] = np.where( (df['Gender'] == 'Female') & (df['Cover'] == 'Third Party') & (df['Licence'] == 'Provisional') & (df['Age'] == '21-24'), np.random.normal(1287, 0), df['Premium'])\n",
    "df['Premium'] = np.where( (df['Gender'] == 'Female') & (df['Cover'] == 'Third Party') & (df['Licence'] == 'Provisional') & (df['Age'] == '25-30'), np.random.normal(964, 0), df['Premium'])\n",
    "df['Premium'] = np.where( (df['Gender'] == 'Female') & (df['Cover'] == 'Third Party') & (df['Licence'] == 'Provisional') & (df['Age'] == '31-50'), np.random.normal(757, 0), df['Premium'])\n",
    "df['Premium'] = np.where( (df['Gender'] == 'Female') & (df['Cover'] == 'Third Party') & (df['Licence'] == 'Provisional') & (df['Age'] == '51-70'), np.random.normal(583, 0), df['Premium'])\n",
    "df['Premium'] = np.where( (df['Gender'] == 'Female') & (df['Cover'] == 'Third Party') & (df['Licence'] == 'Provisional') & (df['Age'] == '71+'), np.random.normal(606, 0), df['Premium'])\n"
   ]
  },
  {
   "cell_type": "code",
   "execution_count": 7,
   "id": "65ee1d52-d80b-4370-a7bc-5e4523335f98",
   "metadata": {},
   "outputs": [],
   "source": [
    "df['Premium'] = np.where( (df['Gender'] == 'Male') & (df['Cover'] == 'Comprehensive') & (df['Licence'] == 'Full') & (df['Age'] == '17-20'), np.random.normal(1388, 0), df['Premium'])\n",
    "df['Premium'] = np.where( (df['Gender'] == 'Male') & (df['Cover'] == 'Comprehensive') & (df['Licence'] == 'Full') & (df['Age'] == '21-24'), np.random.normal(915, 0), df['Premium'])\n",
    "df['Premium'] = np.where( (df['Gender'] == 'Male') & (df['Cover'] == 'Comprehensive') & (df['Licence'] == 'Full') & (df['Age'] == '25-30'), np.random.normal(657, 0), df['Premium'])\n",
    "df['Premium'] = np.where( (df['Gender'] == 'Male') & (df['Cover'] == 'Comprehensive') & (df['Licence'] == 'Full') & (df['Age'] == '31-50'), np.random.normal(495, 0), df['Premium'])\n",
    "df['Premium'] = np.where( (df['Gender'] == 'Male') & (df['Cover'] == 'Comprehensive') & (df['Licence'] == 'Full') & (df['Age'] == '51-70'), np.random.normal(454, 0), df['Premium'])\n",
    "df['Premium'] = np.where( (df['Gender'] == 'Male') & (df['Cover'] == 'Comprehensive') & (df['Licence'] == 'Full') & (df['Age'] == '71+'), np.random.normal(520, 0), df['Premium'])\n"
   ]
  },
  {
   "cell_type": "code",
   "execution_count": 8,
   "id": "9ba18d32-6ad3-49de-9e3c-3527cfc61ac6",
   "metadata": {},
   "outputs": [],
   "source": [
    "df['Premium'] = np.where( (df['Gender'] == 'Male') & (df['Cover'] == 'Comprehensive') & (df['Licence'] == 'Provisional') & (df['Age'] == '17-20'), np.random.normal(1954, 0), df['Premium'])\n",
    "df['Premium'] = np.where( (df['Gender'] == 'Male') & (df['Cover'] == 'Comprehensive') & (df['Licence'] == 'Provisional') & (df['Age'] == '21-24'), np.random.normal(1356, 0), df['Premium'])\n",
    "df['Premium'] = np.where( (df['Gender'] == 'Male') & (df['Cover'] == 'Comprehensive') & (df['Licence'] == 'Provisional') & (df['Age'] == '25-30'), np.random.normal(1050, 0), df['Premium'])\n",
    "df['Premium'] = np.where( (df['Gender'] == 'Male') & (df['Cover'] == 'Comprehensive') & (df['Licence'] == 'Provisional') & (df['Age'] == '31-50'), np.random.normal(776, 0), df['Premium'])\n",
    "df['Premium'] = np.where( (df['Gender'] == 'Male') & (df['Cover'] == 'Comprehensive') & (df['Licence'] == 'Provisional') & (df['Age'] == '51-70'), np.random.normal(679, 0), df['Premium'])\n",
    "df['Premium'] = np.where( (df['Gender'] == 'Male') & (df['Cover'] == 'Comprehensive') & (df['Licence'] == 'Provisional') & (df['Age'] == '71+'), np.random.normal(677, 0), df['Premium'])\n"
   ]
  },
  {
   "cell_type": "code",
   "execution_count": 9,
   "id": "5c5262e7-fb3d-47c3-8971-ca9e3b9fc1a5",
   "metadata": {},
   "outputs": [],
   "source": [
    "df['Premium'] = np.where( (df['Gender'] == 'Male') & (df['Cover'] == 'Third Party') & (df['Licence'] == 'Full') & (df['Age'] == '17-20'), np.random.normal(1843, 0), df['Premium'])\n",
    "df['Premium'] = np.where( (df['Gender'] == 'Male') & (df['Cover'] == 'Third Party') & (df['Licence'] == 'Full') & (df['Age'] == '21-24'), np.random.normal(959, 0), df['Premium'])\n",
    "df['Premium'] = np.where( (df['Gender'] == 'Male') & (df['Cover'] == 'Third Party') & (df['Licence'] == 'Full') & (df['Age'] == '25-30'), np.random.normal(683, 0), df['Premium'])\n",
    "df['Premium'] = np.where( (df['Gender'] == 'Male') & (df['Cover'] == 'Third Party') & (df['Licence'] == 'Full') & (df['Age'] == '31-50'), np.random.normal(527, 0), df['Premium'])\n",
    "df['Premium'] = np.where( (df['Gender'] == 'Male') & (df['Cover'] == 'Third Party') & (df['Licence'] == 'Full') & (df['Age'] == '51-70'), np.random.normal(472, 0), df['Premium'])\n",
    "df['Premium'] = np.where( (df['Gender'] == 'Male') & (df['Cover'] == 'Third Party') & (df['Licence'] == 'Full') & (df['Age'] == '71+'), np.random.normal(473, 0), df['Premium'])\n"
   ]
  },
  {
   "cell_type": "code",
   "execution_count": 10,
   "id": "ddf8a36b-02f1-4cb8-aae9-6d6ff407e303",
   "metadata": {},
   "outputs": [],
   "source": [
    "df['Premium'] = np.where( (df['Gender'] == 'Male') & (df['Cover'] == 'Third Party') & (df['Licence'] == 'Provisional') & (df['Age'] == '17-20'), np.random.normal(2247, 0), df['Premium'])\n",
    "df['Premium'] = np.where( (df['Gender'] == 'Male') & (df['Cover'] == 'Third Party') & (df['Licence'] == 'Provisional') & (df['Age'] == '21-24'), np.random.normal(1562, 0), df['Premium'])\n",
    "df['Premium'] = np.where( (df['Gender'] == 'Male') & (df['Cover'] == 'Third Party') & (df['Licence'] == 'Provisional') & (df['Age'] == '25-30'), np.random.normal(1148, 0), df['Premium'])\n",
    "df['Premium'] = np.where( (df['Gender'] == 'Male') & (df['Cover'] == 'Third Party') & (df['Licence'] == 'Provisional') & (df['Age'] == '31-50'), np.random.normal(849, 0), df['Premium'])\n",
    "df['Premium'] = np.where( (df['Gender'] == 'Male') & (df['Cover'] == 'Third Party') & (df['Licence'] == 'Provisional') & (df['Age'] == '51-70'), np.random.normal(639, 0), df['Premium'])\n",
    "df['Premium'] = np.where( (df['Gender'] == 'Male') & (df['Cover'] == 'Third Party') & (df['Licence'] == 'Provisional') & (df['Age'] == '71+'), np.random.normal(634, 0), df['Premium'])\n"
   ]
  },
  {
   "cell_type": "code",
   "execution_count": null,
   "id": "5447b648-7756-4ee7-ae22-38f74df5d79b",
   "metadata": {},
   "outputs": [],
   "source": []
  },
  {
   "cell_type": "code",
   "execution_count": null,
   "id": "c6f3de33-1211-4405-b74b-2d004e9e0f8c",
   "metadata": {},
   "outputs": [],
   "source": []
  },
  {
   "cell_type": "code",
   "execution_count": null,
   "id": "5d427ee9-6e0e-4eef-bc07-a5dbd5069946",
   "metadata": {},
   "outputs": [],
   "source": []
  },
  {
   "cell_type": "code",
   "execution_count": 11,
   "id": "63cf4131-2491-4877-afc5-be8a90885aec",
   "metadata": {},
   "outputs": [],
   "source": [
    "df.set_index('Age')\n",
    "INS_Data = 'INS_Data' + '.csv'\n",
    "df.to_csv(INS_Data) # Save DF as csv"
   ]
  },
  {
   "cell_type": "code",
   "execution_count": 12,
   "id": "7aa2dba3-206e-44bf-beb3-4c84329360eb",
   "metadata": {},
   "outputs": [],
   "source": [
    "INS_data = pd.read_csv('INS_Data.csv') # Opening csv file \n",
    "\n",
    "include =['object', 'float', 'int'] # Includes all data types, not just nemeric values\n",
    "  \n",
    "Summary = INS_data.describe(include = include) # Getting summary stats for all variables."
   ]
  },
  {
   "cell_type": "code",
   "execution_count": 13,
   "id": "454832d3-888c-4cef-adad-e86bf39b2c21",
   "metadata": {},
   "outputs": [
    {
     "name": "stdout",
     "output_type": "stream",
     "text": [
      "        Gender Licence          Cover    Age      Premium\n",
      "count     1000    1000           1000   1000  1000.000000\n",
      "unique       2       2              2      6          NaN\n",
      "top     Female    Full  Comprehensive  31-50          NaN\n",
      "freq       506     967            806    403          NaN\n",
      "mean       NaN     NaN            NaN    NaN   573.392000\n",
      "std        NaN     NaN            NaN    NaN   234.836647\n",
      "min        NaN     NaN            NaN    NaN   433.000000\n",
      "25%        NaN     NaN            NaN    NaN   456.000000\n",
      "50%        NaN     NaN            NaN    NaN   495.000000\n",
      "75%        NaN     NaN            NaN    NaN   561.000000\n",
      "max        NaN     NaN            NaN    NaN  1843.000000\n"
     ]
    }
   ],
   "source": [
    "print(Summary)"
   ]
  },
  {
   "cell_type": "code",
   "execution_count": null,
   "id": "2df85683-7ae0-4352-9e71-99fbe37ca2d6",
   "metadata": {},
   "outputs": [],
   "source": []
  },
  {
   "cell_type": "code",
   "execution_count": null,
   "id": "4c08dfab-44a4-4d4c-92f7-ac43036605c2",
   "metadata": {},
   "outputs": [],
   "source": []
  },
  {
   "cell_type": "code",
   "execution_count": null,
   "id": "96d1db27-c7ce-493d-9fc4-f056a929f9fe",
   "metadata": {},
   "outputs": [],
   "source": []
  },
  {
   "cell_type": "code",
   "execution_count": null,
   "id": "22e3dc3b-ee92-42ba-9374-737ab6d8feaf",
   "metadata": {},
   "outputs": [],
   "source": []
  },
  {
   "cell_type": "code",
   "execution_count": 14,
   "id": "26437d40-323c-4cb8-aa44-cc959c686ef4",
   "metadata": {},
   "outputs": [],
   "source": [
    "Summary_gender = INS_data.groupby('Gender').describe() # Summary stats for premium, grouped by gender."
   ]
  },
  {
   "cell_type": "code",
   "execution_count": 15,
   "id": "44f770aa-4020-48fc-a395-0ea4c9b5ad36",
   "metadata": {},
   "outputs": [
    {
     "name": "stdout",
     "output_type": "stream",
     "text": [
      "       Unnamed: 0                                                             \\\n",
      "            count        mean         std  min     25%    50%     75%    max   \n",
      "Gender                                                                         \n",
      "Female      506.0  518.567194  289.281459  0.0  275.25  535.0  761.75  997.0   \n",
      "Male        494.0  479.969636  287.327197  1.0  229.25  457.5  730.50  999.0   \n",
      "\n",
      "       Premium                                                              \n",
      "         count        mean         std    min    25%    50%    75%     max  \n",
      "Gender                                                                      \n",
      "Female   506.0  539.418972  202.250189  433.0  456.0  456.0  497.0  1777.0  \n",
      "Male     494.0  608.190283  259.715104  454.0  473.0  495.0  657.0  1843.0  \n"
     ]
    }
   ],
   "source": [
    "print(Summary_gender)"
   ]
  },
  {
   "cell_type": "code",
   "execution_count": 64,
   "id": "2ce1a874-87ea-47be-9862-3d334091a964",
   "metadata": {},
   "outputs": [
    {
     "data": {
      "image/png": "[encoded data removed]",
      "text/plain": [
       "<Figure size 436.35x360 with 1 Axes>"
      ]
     },
     "metadata": {},
     "output_type": "display_data"
    }
   ],
   "source": [
    "sns.set(style=\"darkgrid\") # Add background colour to plot\n",
    "sns.displot(x=\"Premium\", data=INS_data, hue = \"Gender\", bins = 5, multiple = \"dodge\") # Displot showing relationship between gender and insurance premium.\n",
    "plt.savefig(\"Premium_Gender\") # Saving the graph"
   ]
  },
  {
   "cell_type": "code",
   "execution_count": null,
   "id": "d7d4be29-c409-4d70-9994-1f4439586d53",
   "metadata": {},
   "outputs": [],
   "source": []
  },
  {
   "cell_type": "code",
   "execution_count": 65,
   "id": "4836d22c-3402-40a9-98c7-201c692579e7",
   "metadata": {},
   "outputs": [
    {
     "data": {
      "image/png": "[encoded data removed]",
      "text/plain": [
       "<Figure size 432x288 with 1 Axes>"
      ]
     },
     "metadata": {},
     "output_type": "display_data"
    }
   ],
   "source": [
    "sns.set(style=\"darkgrid\")\n",
    "sns.barplot( y = \"Premium\", data = INS_data, x = \"Age\", hue = \"Gender\", ) # Barchart showing the premium amounts by age and gender\n",
    "plt.savefig('Premium_Gender_Age')"
   ]
  },
  {
   "cell_type": "code",
   "execution_count": null,
   "id": "0ecb1b7b-29d4-40e3-8fc3-0d0df2ef9b7e",
   "metadata": {},
   "outputs": [],
   "source": []
  },
  {
   "cell_type": "code",
   "execution_count": 76,
   "id": "cd20ca41-a009-4260-a7dd-4752da2e4274",
   "metadata": {},
   "outputs": [
    {
     "data": {
      "text/plain": [
       "<seaborn.axisgrid.FacetGrid at 0x2558b347c70>"
      ]
     },
     "execution_count": 76,
     "metadata": {},
     "output_type": "execute_result"
    },
    {
     "data": {
      "image/png": "[encoded data removed]",
      "text/plain": [
       "<Figure size 476.85x360 with 1 Axes>"
      ]
     },
     "metadata": {},
     "output_type": "display_data"
    }
   ],
   "source": [
    "sns.displot(y = \"Premium\", data = INS_data, bins=5, hue = \"Cover\", multiple = \"dodge\" )"
   ]
  },
  {
   "cell_type": "code",
   "execution_count": null,
   "id": "787766f0-e036-4e46-859c-2645160e687c",
   "metadata": {},
   "outputs": [],
   "source": []
  }
 ],
 "metadata": {
  "kernelspec": {
   "display_name": "Python 3",
   "language": "python",
   "name": "python3"
  },
  "language_info": {
   "codemirror_mode": {
    "name": "ipython",
    "version": 3
   },
   "file_extension": ".py",
   "mimetype": "text/x-python",
   "name": "python",
   "nbconvert_exporter": "python",
   "pygments_lexer": "ipython3",
   "version": "3.8.8"
  }
 },
 "nbformat": 4,
 "nbformat_minor": 5
}

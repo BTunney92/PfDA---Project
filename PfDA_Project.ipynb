{
 "cells": [
  {
   "cell_type": "markdown",
   "id": "b648c969-b866-4c13-89ea-43a8c6ad4276",
   "metadata": {},
   "source": [
    "## Programming for Data Analysis - Project\n",
    "\n",
    "### Author - Brendan Tunney\n",
    "\n",
    "### Student ID - G00270683"
   ]
  },
  {
   "cell_type": "markdown",
   "id": "4e82359e-0c71-4aae-a80b-060f6a4504e6",
   "metadata": {},
   "source": [
    "![](insurance.png)"
   ]
  },
  {
   "cell_type": "markdown",
   "id": "706068e9-4224-48cf-a7b1-340dc2c4155a",
   "metadata": {},
   "source": [
    "# Problem statement\n",
    "\n",
    "For this project you must create a data set by simulating a real-world phenomenon of\n",
    "your choosing. You may pick any phenomenon you wish – you might pick one that is\n",
    "of interest to you in your personal or professional life. Then, rather than collect data\n",
    "related to the phenomenon, you should model and synthesise such data using Python.\n",
    "We suggest you use the numpy.random package for this purpose.\n",
    "Specifically, in this project you should:\n",
    "    \n",
    "•Choose a real-world phenomenon that can be measured and for which you could\n",
    "collect at least one-hundred data points across at least four different variables.\n",
    "\n",
    "•Investigate the types of variables involved, their likely distributions, and their\n",
    "relationships with each other.\n",
    "\n",
    "•Synthesise/simulate a data set as closely matching their properties as possible.\n",
    "\n",
    "•Detail your research and implement the simulation in a Jupyter notebook – the\n",
    "data set itself can simply be displayed in an output cell within the notebook."
   ]
  },
  {
   "cell_type": "markdown",
   "id": "f67a970e-6ed5-4897-ae41-9a702d073eee",
   "metadata": {},
   "source": [
    "# Insurance Premium - Factors\n",
    "\n",
    "For this project, I have decided to create a dataframe with motor insurance premiums and the factors most likely to influence the overall cost. Those factors being;\n",
    "\n",
    "* Age\n",
    "* Gender\n",
    "* Licence type\n",
    "* Cover"
   ]
  },
  {
   "cell_type": "markdown",
   "id": "1fe1fd58-ae86-42be-95bf-b9ca238483dc",
   "metadata": {},
   "source": [
    "### Age\n",
    "\n",
    "Age plays a big factor in motor insurance premiums. Younger drivers are seen as being less experienced and more likely to engage in risky behaviour. Both of which contribute to more crashes [1]. According to CSO data from 2019, young male drivers had had the highest collison rate. On the opposite end of the spectrum were females aged 55 -64 [2]. Because of this, premiums tend to be higher in younger age groups, start to decrease at 25 + and start to increase again after 66 +. \n",
    "\n",
    "Using CSO data (and by removing people under 17), I have established the age distribution of my sample size [3]. Age groups defined as below;\n",
    "\n",
    "* 17 - 20 - 6.19 %\n",
    "* 21 - 24 - 6.24 %\n",
    "* 25 - 30 - 9.86 %\n",
    "* 31 - 50 - 39.04 %\n",
    "* 51 - 70 - 27.27 %\n",
    "* 71 +    - 11.40 % "
   ]
  },
  {
   "cell_type": "markdown",
   "id": "86e3c853-c39f-46ce-b5e3-74611dd258cf",
   "metadata": {},
   "source": [
    "### Gender\n",
    "\n",
    "Analysis shows that female drivers pay less on average than male drivers. There are multiple reasons for this. Males drive more than females, are more likely to engage in risky behaviour, ie) speeding, drink driving and not wearing a seatbelt [1]. \n",
    "\n",
    "From CSO figures on penalty points, Males are almost twice as likely to receive penalty points as females. 66.2 % of points were awarded to males as opposed to 32.8 % to females. \n",
    "\n",
    "Again from the CSO, the distribution of females to males is 50.55:49.45."
   ]
  },
  {
   "cell_type": "markdown",
   "id": "af4e3eca-63e2-4694-a6c0-8addef06266c",
   "metadata": {},
   "source": [
    "### Licence Type\n",
    "\n",
    "The type of licence the insuree holds will also play an important part of their premium. This variable is closely related to 'Age' as provisional licence holders are typically in the younger age category aswell as being more inexperienced.\n",
    "\n",
    "Full licence holders make up 96.5 % of drivers, provisional being 3.5 % [6]."
   ]
  },
  {
   "cell_type": "markdown",
   "id": "271b1057-bf48-444d-bb30-455c7244367e",
   "metadata": {},
   "source": [
    "### Cover\n",
    "\n",
    "Figures from the AA show that 81.86 % of drivers have comprehensive insurance with just 18.14 % choosing third party. Typically third part insurance will be cheaper, however it can sometimes be more expensive depending on factors such as driver history and vehicle [7]. "
   ]
  },
  {
   "cell_type": "code",
   "execution_count": null,
   "id": "dcd74869-96f2-40c5-ac0f-f86c2ab752a2",
   "metadata": {},
   "outputs": [],
   "source": []
  },
  {
   "cell_type": "code",
   "execution_count": 1,
   "id": "7f1efa61-725f-463e-8b77-5f9a6a2e1c8e",
   "metadata": {},
   "outputs": [],
   "source": [
    "#Importing libraries\n",
    "\n",
    "import numpy as np  \n",
    "import pandas as pd\n",
    "import random\n",
    "import seaborn as sns\n",
    "import matplotlib.pyplot as plt"
   ]
  },
  {
   "cell_type": "code",
   "execution_count": 2,
   "id": "7412e71b-7163-4cd9-a43b-5ce24b9e0e5f",
   "metadata": {},
   "outputs": [],
   "source": [
    "# Creating the variables\n",
    "\n",
    "gender = ('Female', 'Male')\n",
    "licence = ('Full', 'Provisional')\n",
    "cover = ('Comprehensive', 'Third Party')\n",
    "age = ('17-20', '21-24', '25-30', '31-50','51-70', '71+')  \n",
    "\n",
    "df = pd.DataFrame(columns={'Premium', 'Age', 'Gender', 'Licence', 'Cover'})\n",
    "\n",
    "df['Gender'] = np.random.choice(gender, 1000, p=[0.5055, 0.4945]) # using numpy random choice to assign 'M/F' based on current population distribution.\n",
    "df['Cover'] = np.random.choice(cover, 1000, p= [0.8186, 0.1814]) # using numpy random choice to assign insurance cover type\n",
    "df['Licence'] = np.random.choice(licence, 1000, p=[0.965, 0.035]) # Licence type based off real world percentages\n",
    "df['Age'] = np.random.choice(age, 1000, p=[0.0619, 0.0624, 0.0986, 0.3904, 0.2727, 0.1140]) # Setting age groups based on 2020 age dist. estimate\n"
   ]
  },
  {
   "cell_type": "markdown",
   "id": "aeb5acc3-feca-4a13-91c7-e21c1aae6bb3",
   "metadata": {},
   "source": [
    "Using Central Bank of Ireland figures for insurance premiums in 2015, I was able to gather the average premiums paid for the various categories above [9]. Below I will assign these average premiums based on the different combinations to my dataset."
   ]
  },
  {
   "cell_type": "code",
   "execution_count": 3,
   "id": "3b0c0548-aa72-4cb0-8d2e-991ef4eb581c",
   "metadata": {},
   "outputs": [],
   "source": [
    "# Assigning average premiums per Central Bank figures to the different variables\n",
    "\n",
    "df['Premium'] = np.where( (df['Gender'] == 'Female') & (df['Cover'] == 'Comprehensive') & (df['Licence'] == 'Full') & (df['Age'] == '17-20'), np.random.normal(1253, 0), df['Premium'])\n",
    "df['Premium'] = np.where( (df['Gender'] == 'Female') & (df['Cover'] == 'Comprehensive') & (df['Licence'] == 'Full') & (df['Age'] == '21-24'), np.random.normal(785, 0), df['Premium'])\n",
    "df['Premium'] = np.where( (df['Gender'] == 'Female') & (df['Cover'] == 'Comprehensive') & (df['Licence'] == 'Full') & (df['Age'] == '25-30'), np.random.normal(561, 0), df['Premium'])\n",
    "df['Premium'] = np.where( (df['Gender'] == 'Female') & (df['Cover'] == 'Comprehensive') & (df['Licence'] == 'Full') & (df['Age'] == '31-50'), np.random.normal(456, 0), df['Premium'])\n",
    "df['Premium'] = np.where( (df['Gender'] == 'Female') & (df['Cover'] == 'Comprehensive') & (df['Licence'] == 'Full') & (df['Age'] == '51-70'), np.random.normal(433, 0), df['Premium'])\n",
    "df['Premium'] = np.where( (df['Gender'] == 'Female') & (df['Cover'] == 'Comprehensive') & (df['Licence'] == 'Full') & (df['Age'] == '71+'), np.random.normal(491, 0), df['Premium'])"
   ]
  },
  {
   "cell_type": "code",
   "execution_count": 4,
   "id": "4f392c58-c1b3-457a-975d-1d13a9e20df8",
   "metadata": {},
   "outputs": [],
   "source": [
    "df['Premium'] = np.where( (df['Gender'] == 'Female') & (df['Cover'] == 'Third Party') & (df['Licence'] == 'Full') & (df['Age'] == '17-20'), np.random.normal(1465, 0), df['Premium'])\n",
    "df['Premium'] = np.where( (df['Gender'] == 'Female') & (df['Cover'] == 'Third Party') & (df['Licence'] == 'Full') & (df['Age'] == '21-24'), np.random.normal(804, 0), df['Premium'])\n",
    "df['Premium'] = np.where( (df['Gender'] == 'Female') & (df['Cover'] == 'Third Party') & (df['Licence'] == 'Full') & (df['Age'] == '25-30'), np.random.normal(589, 0), df['Premium'])\n",
    "df['Premium'] = np.where( (df['Gender'] == 'Female') & (df['Cover'] == 'Third Party') & (df['Licence'] == 'Full') & (df['Age'] == '31-50'), np.random.normal(497, 0), df['Premium'])\n",
    "df['Premium'] = np.where( (df['Gender'] == 'Female') & (df['Cover'] == 'Third Party') & (df['Licence'] == 'Full') & (df['Age'] == '51-70'), np.random.normal(465, 0), df['Premium'])\n",
    "df['Premium'] = np.where( (df['Gender'] == 'Female') & (df['Cover'] == 'Third Party') & (df['Licence'] == 'Full') & (df['Age'] == '71+'), np.random.normal(458, 0), df['Premium'])\n"
   ]
  },
  {
   "cell_type": "code",
   "execution_count": 5,
   "id": "ee0fe94e-4c48-4958-ad17-f65ed1ede7f8",
   "metadata": {},
   "outputs": [],
   "source": [
    "df['Premium'] = np.where( (df['Gender'] == 'Female') & (df['Cover'] == 'Comprehensive') & (df['Licence'] == 'Provisional') & (df['Age'] == '17-20'), np.random.normal(1777, 0), df['Premium'])\n",
    "df['Premium'] = np.where( (df['Gender'] == 'Female') & (df['Cover'] == 'Comprehensive') & (df['Licence'] == 'Provisional') & (df['Age'] == '21-24'), np.random.normal(1218, 0), df['Premium'])\n",
    "df['Premium'] = np.where( (df['Gender'] == 'Female') & (df['Cover'] == 'Comprehensive') & (df['Licence'] == 'Provisional') & (df['Age'] == '25-30'), np.random.normal(913, 0), df['Premium'])\n",
    "df['Premium'] = np.where( (df['Gender'] == 'Female') & (df['Cover'] == 'Comprehensive') & (df['Licence'] == 'Provisional') & (df['Age'] == '31-50'), np.random.normal(724, 0), df['Premium'])\n",
    "df['Premium'] = np.where( (df['Gender'] == 'Female') & (df['Cover'] == 'Comprehensive') & (df['Licence'] == 'Provisional') & (df['Age'] == '51-70'), np.random.normal(633, 0), df['Premium'])\n",
    "df['Premium'] = np.where( (df['Gender'] == 'Female') & (df['Cover'] == 'Comprehensive') & (df['Licence'] == 'Provisional') & (df['Age'] == '71+'), np.random.normal(670, 0), df['Premium'])\n"
   ]
  },
  {
   "cell_type": "code",
   "execution_count": 6,
   "id": "9a26405b-d7cf-4622-bc13-9c2b3b97ad2a",
   "metadata": {},
   "outputs": [],
   "source": [
    "df['Premium'] = np.where( (df['Gender'] == 'Female') & (df['Cover'] == 'Third Party') & (df['Licence'] == 'Provisional') & (df['Age'] == '17-20'), np.random.normal(2135, 0), df['Premium'])\n",
    "df['Premium'] = np.where( (df['Gender'] == 'Female') & (df['Cover'] == 'Third Party') & (df['Licence'] == 'Provisional') & (df['Age'] == '21-24'), np.random.normal(1287, 0), df['Premium'])\n",
    "df['Premium'] = np.where( (df['Gender'] == 'Female') & (df['Cover'] == 'Third Party') & (df['Licence'] == 'Provisional') & (df['Age'] == '25-30'), np.random.normal(964, 0), df['Premium'])\n",
    "df['Premium'] = np.where( (df['Gender'] == 'Female') & (df['Cover'] == 'Third Party') & (df['Licence'] == 'Provisional') & (df['Age'] == '31-50'), np.random.normal(757, 0), df['Premium'])\n",
    "df['Premium'] = np.where( (df['Gender'] == 'Female') & (df['Cover'] == 'Third Party') & (df['Licence'] == 'Provisional') & (df['Age'] == '51-70'), np.random.normal(583, 0), df['Premium'])\n",
    "df['Premium'] = np.where( (df['Gender'] == 'Female') & (df['Cover'] == 'Third Party') & (df['Licence'] == 'Provisional') & (df['Age'] == '71+'), np.random.normal(606, 0), df['Premium'])\n"
   ]
  },
  {
   "cell_type": "code",
   "execution_count": 7,
   "id": "65ee1d52-d80b-4370-a7bc-5e4523335f98",
   "metadata": {},
   "outputs": [],
   "source": [
    "df['Premium'] = np.where( (df['Gender'] == 'Male') & (df['Cover'] == 'Comprehensive') & (df['Licence'] == 'Full') & (df['Age'] == '17-20'), np.random.normal(1388, 0), df['Premium'])\n",
    "df['Premium'] = np.where( (df['Gender'] == 'Male') & (df['Cover'] == 'Comprehensive') & (df['Licence'] == 'Full') & (df['Age'] == '21-24'), np.random.normal(915, 0), df['Premium'])\n",
    "df['Premium'] = np.where( (df['Gender'] == 'Male') & (df['Cover'] == 'Comprehensive') & (df['Licence'] == 'Full') & (df['Age'] == '25-30'), np.random.normal(657, 0), df['Premium'])\n",
    "df['Premium'] = np.where( (df['Gender'] == 'Male') & (df['Cover'] == 'Comprehensive') & (df['Licence'] == 'Full') & (df['Age'] == '31-50'), np.random.normal(495, 0), df['Premium'])\n",
    "df['Premium'] = np.where( (df['Gender'] == 'Male') & (df['Cover'] == 'Comprehensive') & (df['Licence'] == 'Full') & (df['Age'] == '51-70'), np.random.normal(454, 0), df['Premium'])\n",
    "df['Premium'] = np.where( (df['Gender'] == 'Male') & (df['Cover'] == 'Comprehensive') & (df['Licence'] == 'Full') & (df['Age'] == '71+'), np.random.normal(520, 0), df['Premium'])\n"
   ]
  },
  {
   "cell_type": "code",
   "execution_count": 8,
   "id": "9ba18d32-6ad3-49de-9e3c-3527cfc61ac6",
   "metadata": {},
   "outputs": [],
   "source": [
    "df['Premium'] = np.where( (df['Gender'] == 'Male') & (df['Cover'] == 'Comprehensive') & (df['Licence'] == 'Provisional') & (df['Age'] == '17-20'), np.random.normal(1954, 0), df['Premium'])\n",
    "df['Premium'] = np.where( (df['Gender'] == 'Male') & (df['Cover'] == 'Comprehensive') & (df['Licence'] == 'Provisional') & (df['Age'] == '21-24'), np.random.normal(1356, 0), df['Premium'])\n",
    "df['Premium'] = np.where( (df['Gender'] == 'Male') & (df['Cover'] == 'Comprehensive') & (df['Licence'] == 'Provisional') & (df['Age'] == '25-30'), np.random.normal(1050, 0), df['Premium'])\n",
    "df['Premium'] = np.where( (df['Gender'] == 'Male') & (df['Cover'] == 'Comprehensive') & (df['Licence'] == 'Provisional') & (df['Age'] == '31-50'), np.random.normal(776, 0), df['Premium'])\n",
    "df['Premium'] = np.where( (df['Gender'] == 'Male') & (df['Cover'] == 'Comprehensive') & (df['Licence'] == 'Provisional') & (df['Age'] == '51-70'), np.random.normal(679, 0), df['Premium'])\n",
    "df['Premium'] = np.where( (df['Gender'] == 'Male') & (df['Cover'] == 'Comprehensive') & (df['Licence'] == 'Provisional') & (df['Age'] == '71+'), np.random.normal(677, 0), df['Premium'])\n"
   ]
  },
  {
   "cell_type": "code",
   "execution_count": 9,
   "id": "5c5262e7-fb3d-47c3-8971-ca9e3b9fc1a5",
   "metadata": {},
   "outputs": [],
   "source": [
    "df['Premium'] = np.where( (df['Gender'] == 'Male') & (df['Cover'] == 'Third Party') & (df['Licence'] == 'Full') & (df['Age'] == '17-20'), np.random.normal(1843, 0), df['Premium'])\n",
    "df['Premium'] = np.where( (df['Gender'] == 'Male') & (df['Cover'] == 'Third Party') & (df['Licence'] == 'Full') & (df['Age'] == '21-24'), np.random.normal(959, 0), df['Premium'])\n",
    "df['Premium'] = np.where( (df['Gender'] == 'Male') & (df['Cover'] == 'Third Party') & (df['Licence'] == 'Full') & (df['Age'] == '25-30'), np.random.normal(683, 0), df['Premium'])\n",
    "df['Premium'] = np.where( (df['Gender'] == 'Male') & (df['Cover'] == 'Third Party') & (df['Licence'] == 'Full') & (df['Age'] == '31-50'), np.random.normal(527, 0), df['Premium'])\n",
    "df['Premium'] = np.where( (df['Gender'] == 'Male') & (df['Cover'] == 'Third Party') & (df['Licence'] == 'Full') & (df['Age'] == '51-70'), np.random.normal(472, 0), df['Premium'])\n",
    "df['Premium'] = np.where( (df['Gender'] == 'Male') & (df['Cover'] == 'Third Party') & (df['Licence'] == 'Full') & (df['Age'] == '71+'), np.random.normal(473, 0), df['Premium'])\n"
   ]
  },
  {
   "cell_type": "code",
   "execution_count": 10,
   "id": "ddf8a36b-02f1-4cb8-aae9-6d6ff407e303",
   "metadata": {},
   "outputs": [],
   "source": [
    "df['Premium'] = np.where( (df['Gender'] == 'Male') & (df['Cover'] == 'Third Party') & (df['Licence'] == 'Provisional') & (df['Age'] == '17-20'), np.random.normal(2247, 0), df['Premium'])\n",
    "df['Premium'] = np.where( (df['Gender'] == 'Male') & (df['Cover'] == 'Third Party') & (df['Licence'] == 'Provisional') & (df['Age'] == '21-24'), np.random.normal(1562, 0), df['Premium'])\n",
    "df['Premium'] = np.where( (df['Gender'] == 'Male') & (df['Cover'] == 'Third Party') & (df['Licence'] == 'Provisional') & (df['Age'] == '25-30'), np.random.normal(1148, 0), df['Premium'])\n",
    "df['Premium'] = np.where( (df['Gender'] == 'Male') & (df['Cover'] == 'Third Party') & (df['Licence'] == 'Provisional') & (df['Age'] == '31-50'), np.random.normal(849, 0), df['Premium'])\n",
    "df['Premium'] = np.where( (df['Gender'] == 'Male') & (df['Cover'] == 'Third Party') & (df['Licence'] == 'Provisional') & (df['Age'] == '51-70'), np.random.normal(639, 0), df['Premium'])\n",
    "df['Premium'] = np.where( (df['Gender'] == 'Male') & (df['Cover'] == 'Third Party') & (df['Licence'] == 'Provisional') & (df['Age'] == '71+'), np.random.normal(634, 0), df['Premium'])\n"
   ]
  },
  {
   "cell_type": "code",
   "execution_count": 11,
   "id": "63cf4131-2491-4877-afc5-be8a90885aec",
   "metadata": {},
   "outputs": [],
   "source": [
    "df.set_index('Age')\n",
    "INS_Data = 'INS_Data' + '.csv'\n",
    "df.to_csv(INS_Data) # Save DF as csv"
   ]
  },
  {
   "cell_type": "markdown",
   "id": "604078af-27a5-42df-a179-1bc549568257",
   "metadata": {},
   "source": [
    "### Gender and Premium"
   ]
  },
  {
   "cell_type": "code",
   "execution_count": 13,
   "id": "26437d40-323c-4cb8-aa44-cc959c686ef4",
   "metadata": {},
   "outputs": [],
   "source": [
    "INS_data = pd.read_csv('INS_Data.csv') # Opening csv file \n",
    "\n",
    "Summary_gender = INS_data.groupby('Gender').describe() # Summary stats for premium, grouped by gender."
   ]
  },
  {
   "cell_type": "code",
   "execution_count": 14,
   "id": "44f770aa-4020-48fc-a395-0ea4c9b5ad36",
   "metadata": {},
   "outputs": [
    {
     "name": "stdout",
     "output_type": "stream",
     "text": [
      "       Unnamed: 0                                                           \\\n",
      "            count        mean         std  min    25%    50%    75%    max   \n",
      "Gender                                                                       \n",
      "Female      505.0  494.394059  291.713610  2.0  240.0  502.0  751.0  994.0   \n",
      "Male        495.0  504.709091  286.037603  0.0  260.5  498.0  745.0  999.0   \n",
      "\n",
      "       Premium                                                              \n",
      "         count        mean         std    min    25%    50%    75%     max  \n",
      "Gender                                                                      \n",
      "Female   505.0  536.279208  191.114140  433.0  456.0  458.0  497.0  1777.0  \n",
      "Male     495.0  590.424242  244.911208  454.0  472.0  495.0  527.0  1954.0  \n"
     ]
    }
   ],
   "source": [
    "print(Summary_gender)"
   ]
  },
  {
   "cell_type": "code",
   "execution_count": 15,
   "id": "2ce1a874-87ea-47be-9862-3d334091a964",
   "metadata": {},
   "outputs": [
    {
     "data": {
      "image/png": "[encoded data removed]",
      "text/plain": [
       "<Figure size 436.35x360 with 1 Axes>"
      ]
     },
     "metadata": {},
     "output_type": "display_data"
    }
   ],
   "source": [
    "sns.set(style=\"darkgrid\") # Add background colour to plot\n",
    "sns.displot(x=\"Premium\", data=INS_data, hue = \"Gender\", bins = 5, multiple = \"dodge\") # Displot showing relationship between gender and insurance premium.\n",
    "plt.savefig(\"Premium_Gender\") # Saving the graph"
   ]
  },
  {
   "cell_type": "markdown",
   "id": "53d4dba0-58ec-4bab-ad89-95cf127cbc48",
   "metadata": {},
   "source": [
    "The above plot shows the relationship between gender and premium cost. As expected, on average females will pay less than males."
   ]
  },
  {
   "cell_type": "markdown",
   "id": "f9eee270-0430-4092-9c28-ab9d8a5dc6ae",
   "metadata": {},
   "source": [
    "### Age and Premium"
   ]
  },
  {
   "cell_type": "code",
   "execution_count": 16,
   "id": "4836d22c-3402-40a9-98c7-201c692579e7",
   "metadata": {},
   "outputs": [
    {
     "data": {
      "image/png": "[encoded data removed]",
      "text/plain": [
       "<Figure size 432x288 with 1 Axes>"
      ]
     },
     "metadata": {},
     "output_type": "display_data"
    }
   ],
   "source": [
    "sns.set(style=\"darkgrid\")\n",
    "sns.barplot( y = \"Premium\", data = INS_data, x = \"Age\", hue = \"Gender\", ) # Barchart showing the premium amounts by age and gender\n",
    "# plt.savefig('Premium_Gender_Age') #Uncomment to save figure"
   ]
  },
  {
   "cell_type": "markdown",
   "id": "806bbdc3-b819-4295-943c-4ebf3598ef22",
   "metadata": {},
   "source": [
    "As the research indicated, younger age categories pay higher premiums, the lowest in middle age before rising again slightly in older age (71+)."
   ]
  },
  {
   "cell_type": "markdown",
   "id": "f2c2c8aa-7475-4473-a125-5b81ea6707d3",
   "metadata": {},
   "source": [
    "### Cover and Premium"
   ]
  },
  {
   "cell_type": "code",
   "execution_count": 17,
   "id": "cd20ca41-a009-4260-a7dd-4752da2e4274",
   "metadata": {},
   "outputs": [],
   "source": [
    "Summary_cover = INS_data.groupby('Cover').describe() # Summary stats for premium, grouped by cover type."
   ]
  },
  {
   "cell_type": "code",
   "execution_count": 18,
   "id": "787766f0-e036-4e46-859c-2645160e687c",
   "metadata": {},
   "outputs": [
    {
     "name": "stdout",
     "output_type": "stream",
     "text": [
      "              Unnamed: 0                                                    \\\n",
      "                   count        mean         std  min    25%    50%    75%   \n",
      "Cover                                                                        \n",
      "Comprehensive      791.0  494.611884  285.631993  0.0  247.5  496.0  739.5   \n",
      "Third Party        209.0  518.000000  300.561718  1.0  263.0  509.0  799.0   \n",
      "\n",
      "                     Premium                                               \\\n",
      "                 max   count        mean         std    min    25%    50%   \n",
      "Cover                                                                       \n",
      "Comprehensive  999.0   791.0  561.542351  220.902448  433.0  454.0  491.0   \n",
      "Third Party    998.0   209.0  568.904306  221.585416  458.0  472.0  497.0   \n",
      "\n",
      "                              \n",
      "                 75%     max  \n",
      "Cover                         \n",
      "Comprehensive  520.0  1954.0  \n",
      "Third Party    527.0  1843.0  \n"
     ]
    }
   ],
   "source": [
    "print(Summary_cover)"
   ]
  },
  {
   "cell_type": "markdown",
   "id": "ba9e2016-6838-466e-8546-93832ef4ecc7",
   "metadata": {},
   "source": [
    "\n",
    "Using the 'Describe' function and by grouping cover type, we can see that, 'Third Party' insurance coverage is actually more expensive than 'comprehensive'."
   ]
  },
  {
   "cell_type": "markdown",
   "id": "56193d42-5a4b-452c-b3c7-fd17e3027fc7",
   "metadata": {},
   "source": [
    "### Licence Type and Premium"
   ]
  },
  {
   "cell_type": "code",
   "execution_count": 19,
   "id": "23d5a021-2a33-4154-9ec1-50beaa510d4e",
   "metadata": {},
   "outputs": [
    {
     "name": "stdout",
     "output_type": "stream",
     "text": [
      "            Unnamed: 0                                                       \\\n",
      "                 count        mean         std   min     25%    50%     75%   \n",
      "Licence                                                                       \n",
      "Full             960.0  499.130208  289.862332   0.0  246.75  499.5  750.25   \n",
      "Provisional       40.0  508.375000  265.765627  50.0  314.75  507.5  726.50   \n",
      "\n",
      "                   Premium                                               \\\n",
      "               max   count        mean         std    min    25%    50%   \n",
      "Licence                                                                   \n",
      "Full         999.0   960.0  552.054167  210.851032  433.0  456.0  491.0   \n",
      "Provisional  967.0    40.0  827.725000  287.275262  583.0  677.0  724.0   \n",
      "\n",
      "                            \n",
      "               75%     max  \n",
      "Licence                     \n",
      "Full         520.0  1843.0  \n",
      "Provisional  849.0  1954.0  \n"
     ]
    }
   ],
   "source": [
    "Summary_cover = INS_data.groupby('Licence').describe() # Summary stats for premium, grouped by licence type.\n",
    "print(Summary_cover)"
   ]
  },
  {
   "cell_type": "markdown",
   "id": "8a0c99c1-513c-4035-aa26-1056471d85f0",
   "metadata": {},
   "source": [
    "\n",
    "\n",
    "Using the summary statistics again, we can see, as expected, that on average Full licence holders are paying significantly less than Provisional licence holders.\n",
    "\n",
    "This variable is strongly linked with Age as provisional licence holders would normally be younger."
   ]
  },
  {
   "cell_type": "markdown",
   "id": "bb6de5ac-c9fc-4f67-9798-f3cff5a6576b",
   "metadata": {},
   "source": [
    "## Areas for development\n",
    "\n",
    "The main area for development, personally, would be the code assigning the premiums to the various categories."
   ]
  }
 ],
 "metadata": {
  "kernelspec": {
   "display_name": "Python 3",
   "language": "python",
   "name": "python3"
  },
  "language_info": {
   "codemirror_mode": {
    "name": "ipython",
    "version": 3
   },
   "file_extension": ".py",
   "mimetype": "text/x-python",
   "name": "python",
   "nbconvert_exporter": "python",
   "pygments_lexer": "ipython3",
   "version": "3.8.8"
  }
 },
 "nbformat": 4,
 "nbformat_minor": 5
}

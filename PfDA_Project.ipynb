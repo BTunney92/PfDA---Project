{
 "cells": [
  {
   "cell_type": "markdown",
   "id": "b648c969-b866-4c13-89ea-43a8c6ad4276",
   "metadata": {},
   "source": [
    "## Programming for Data Analysis - Project\n",
    "\n",
    "### Author - Brendan Tunney\n",
    "\n",
    "### Student ID - G00270683"
   ]
  },
  {
   "cell_type": "markdown",
   "id": "69e78cd3-5c73-47c5-9710-5241863bf57e",
   "metadata": {},
   "source": [
    "Insurance premiums. Variables - Age, Gender, License type & Cover type"
   ]
  },
  {
   "cell_type": "markdown",
   "id": "d83006d0-4d1a-493e-a2a9-6d8e5b6bde3b",
   "metadata": {},
   "source": [
    "Cover - 81.86  Comp - 2017 figures [2]\n",
    "Gender - Female 50.55. Male 49.45 [3]\n",
    "License - Full - 96.5. Provisional 3.5 [4]\n",
    "AGE - 30 or under - 819,602\n",
    "      31 or over - 2,813,079  [5]\n",
    "\n"
   ]
  }
 ],
 "metadata": {
  "kernelspec": {
   "display_name": "Python 3",
   "language": "python",
   "name": "python3"
  },
  "language_info": {
   "codemirror_mode": {
    "name": "ipython",
    "version": 3
   },
   "file_extension": ".py",
   "mimetype": "text/x-python",
   "name": "python",
   "nbconvert_exporter": "python",
   "pygments_lexer": "ipython3",
   "version": "3.8.8"
  }
 },
 "nbformat": 4,
 "nbformat_minor": 5
}
